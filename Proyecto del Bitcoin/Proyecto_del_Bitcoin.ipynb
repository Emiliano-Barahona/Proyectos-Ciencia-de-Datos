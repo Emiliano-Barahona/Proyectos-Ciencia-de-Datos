{
  "nbformat": 4,
  "nbformat_minor": 0,
  "metadata": {
    "colab": {
      "name": "Proyecto del Bitcoin.ipynb",
      "provenance": []
    },
    "kernelspec": {
      "name": "python3",
      "display_name": "Python 3"
    },
    "language_info": {
      "name": "python"
    }
  },
  "cells": [
    {
      "cell_type": "markdown",
      "source": [
        "# ***First Part: Import Libraries***\n",
        "*As the first step, import the libraries numpy, pandas, matplotlib and seaborn*"
      ],
      "metadata": {
        "id": "H5-kQEqSGt8Q"
      }
    },
    {
      "cell_type": "code",
      "execution_count": 2,
      "metadata": {
        "id": "obFBRtzI6rAb"
      },
      "outputs": [],
      "source": [
        "import numpy as np\n",
        "import pandas as pd\n",
        "import matplotlib.pyplot as plt\n",
        "import seaborn as sns\n",
        "\n",
        "%matplotlib inline"
      ]
    },
    {
      "cell_type": "markdown",
      "source": [
        "# ***Second Part: Get the Data***\n",
        "*Use pandas for read the csv file*"
      ],
      "metadata": {
        "id": "5Qw0ORcWAGFm"
      }
    },
    {
      "cell_type": "code",
      "source": [
        "df = pd.read_csv('sample_data/bitcoin.csv')"
      ],
      "metadata": {
        "id": "z0o5uIHy64m_"
      },
      "execution_count": 3,
      "outputs": []
    },
    {
      "cell_type": "markdown",
      "source": [
        "*Let's see the dataset with the methods* **\".columns()\", \".head()\", \".tail()\", \".describe()\", \".info()\"  and  \"isnull().sum()\"**"
      ],
      "metadata": {
        "id": "S2v-Aa7tJEH3"
      }
    },
    {
      "cell_type": "code",
      "source": [
        "print(df.columns)\n",
        "df[\"date\"] = pd.to_datetime(df[\"date\"])\n",
        "print(df[\"date\"].describe)"
      ],
      "metadata": {
        "colab": {
          "base_uri": "https://localhost:8080/"
        },
        "id": "7o8wvWVqNZZa",
        "outputId": "ede52640-888d-4e7a-a168-6a10684f5b0e"
      },
      "execution_count": 4,
      "outputs": [
        {
          "output_type": "stream",
          "name": "stdout",
          "text": [
            "Index(['date', 'open', 'high', 'low', 'close', 'market', 'close_ratio',\n",
            "       'spread'],\n",
            "      dtype='object')\n",
            "<bound method NDFrame.describe of 0      2013-01-05\n",
            "1      2013-02-05\n",
            "2      2013-03-05\n",
            "3      2013-04-05\n",
            "4      2013-05-05\n",
            "          ...    \n",
            "2034   2018-11-25\n",
            "2035   2018-11-26\n",
            "2036   2018-11-27\n",
            "2037   2018-11-28\n",
            "2038   2018-11-29\n",
            "Name: date, Length: 2039, dtype: datetime64[ns]>\n"
          ]
        }
      ]
    },
    {
      "cell_type": "code",
      "source": [
        "df.head(10)"
      ],
      "metadata": {
        "colab": {
          "base_uri": "https://localhost:8080/",
          "height": 363
        },
        "id": "1HayCeo3_VIB",
        "outputId": "a9618c37-c1f8-4e99-90bf-e463e2d8c34e"
      },
      "execution_count": 5,
      "outputs": [
        {
          "output_type": "execute_result",
          "data": {
            "text/html": [
              "<div>\n",
              "<style scoped>\n",
              "    .dataframe tbody tr th:only-of-type {\n",
              "        vertical-align: middle;\n",
              "    }\n",
              "\n",
              "    .dataframe tbody tr th {\n",
              "        vertical-align: top;\n",
              "    }\n",
              "\n",
              "    .dataframe thead th {\n",
              "        text-align: right;\n",
              "    }\n",
              "</style>\n",
              "<table border=\"1\" class=\"dataframe\">\n",
              "  <thead>\n",
              "    <tr style=\"text-align: right;\">\n",
              "      <th></th>\n",
              "      <th>date</th>\n",
              "      <th>open</th>\n",
              "      <th>high</th>\n",
              "      <th>low</th>\n",
              "      <th>close</th>\n",
              "      <th>market</th>\n",
              "      <th>close_ratio</th>\n",
              "      <th>spread</th>\n",
              "    </tr>\n",
              "  </thead>\n",
              "  <tbody>\n",
              "    <tr>\n",
              "      <th>0</th>\n",
              "      <td>2013-01-05</td>\n",
              "      <td>139.00</td>\n",
              "      <td>139.89</td>\n",
              "      <td>107.72</td>\n",
              "      <td>116.99</td>\n",
              "      <td>1.298955e+09</td>\n",
              "      <td>0.2882</td>\n",
              "      <td>32.17</td>\n",
              "    </tr>\n",
              "    <tr>\n",
              "      <th>1</th>\n",
              "      <td>2013-02-05</td>\n",
              "      <td>116.38</td>\n",
              "      <td>125.60</td>\n",
              "      <td>92.28</td>\n",
              "      <td>105.21</td>\n",
              "      <td>1.168517e+09</td>\n",
              "      <td>0.3881</td>\n",
              "      <td>33.32</td>\n",
              "    </tr>\n",
              "    <tr>\n",
              "      <th>2</th>\n",
              "      <td>2013-03-05</td>\n",
              "      <td>106.25</td>\n",
              "      <td>108.13</td>\n",
              "      <td>79.10</td>\n",
              "      <td>97.75</td>\n",
              "      <td>1.085995e+09</td>\n",
              "      <td>0.6424</td>\n",
              "      <td>29.03</td>\n",
              "    </tr>\n",
              "    <tr>\n",
              "      <th>3</th>\n",
              "      <td>2013-04-05</td>\n",
              "      <td>98.10</td>\n",
              "      <td>115.00</td>\n",
              "      <td>92.50</td>\n",
              "      <td>112.50</td>\n",
              "      <td>1.250317e+09</td>\n",
              "      <td>0.8889</td>\n",
              "      <td>22.50</td>\n",
              "    </tr>\n",
              "    <tr>\n",
              "      <th>4</th>\n",
              "      <td>2013-05-05</td>\n",
              "      <td>112.90</td>\n",
              "      <td>118.80</td>\n",
              "      <td>107.14</td>\n",
              "      <td>115.91</td>\n",
              "      <td>1.288693e+09</td>\n",
              "      <td>0.7521</td>\n",
              "      <td>11.66</td>\n",
              "    </tr>\n",
              "    <tr>\n",
              "      <th>5</th>\n",
              "      <td>2013-06-05</td>\n",
              "      <td>115.98</td>\n",
              "      <td>124.66</td>\n",
              "      <td>106.64</td>\n",
              "      <td>112.30</td>\n",
              "      <td>1.249023e+09</td>\n",
              "      <td>0.3141</td>\n",
              "      <td>18.02</td>\n",
              "    </tr>\n",
              "    <tr>\n",
              "      <th>6</th>\n",
              "      <td>2013-07-05</td>\n",
              "      <td>112.25</td>\n",
              "      <td>113.44</td>\n",
              "      <td>97.70</td>\n",
              "      <td>111.50</td>\n",
              "      <td>1.240594e+09</td>\n",
              "      <td>0.8767</td>\n",
              "      <td>15.74</td>\n",
              "    </tr>\n",
              "    <tr>\n",
              "      <th>7</th>\n",
              "      <td>2013-08-05</td>\n",
              "      <td>109.60</td>\n",
              "      <td>115.78</td>\n",
              "      <td>109.60</td>\n",
              "      <td>113.57</td>\n",
              "      <td>1.264049e+09</td>\n",
              "      <td>0.6424</td>\n",
              "      <td>6.18</td>\n",
              "    </tr>\n",
              "    <tr>\n",
              "      <th>8</th>\n",
              "      <td>2013-09-05</td>\n",
              "      <td>113.20</td>\n",
              "      <td>113.46</td>\n",
              "      <td>109.26</td>\n",
              "      <td>112.67</td>\n",
              "      <td>1.254535e+09</td>\n",
              "      <td>0.8119</td>\n",
              "      <td>4.20</td>\n",
              "    </tr>\n",
              "    <tr>\n",
              "      <th>9</th>\n",
              "      <td>2013-10-05</td>\n",
              "      <td>112.80</td>\n",
              "      <td>122.00</td>\n",
              "      <td>111.55</td>\n",
              "      <td>117.20</td>\n",
              "      <td>1.305479e+09</td>\n",
              "      <td>0.5407</td>\n",
              "      <td>10.45</td>\n",
              "    </tr>\n",
              "  </tbody>\n",
              "</table>\n",
              "</div>"
            ],
            "text/plain": [
              "        date    open    high     low   close        market  close_ratio  spread\n",
              "0 2013-01-05  139.00  139.89  107.72  116.99  1.298955e+09       0.2882   32.17\n",
              "1 2013-02-05  116.38  125.60   92.28  105.21  1.168517e+09       0.3881   33.32\n",
              "2 2013-03-05  106.25  108.13   79.10   97.75  1.085995e+09       0.6424   29.03\n",
              "3 2013-04-05   98.10  115.00   92.50  112.50  1.250317e+09       0.8889   22.50\n",
              "4 2013-05-05  112.90  118.80  107.14  115.91  1.288693e+09       0.7521   11.66\n",
              "5 2013-06-05  115.98  124.66  106.64  112.30  1.249023e+09       0.3141   18.02\n",
              "6 2013-07-05  112.25  113.44   97.70  111.50  1.240594e+09       0.8767   15.74\n",
              "7 2013-08-05  109.60  115.78  109.60  113.57  1.264049e+09       0.6424    6.18\n",
              "8 2013-09-05  113.20  113.46  109.26  112.67  1.254535e+09       0.8119    4.20\n",
              "9 2013-10-05  112.80  122.00  111.55  117.20  1.305479e+09       0.5407   10.45"
            ]
          },
          "metadata": {},
          "execution_count": 5
        }
      ]
    },
    {
      "cell_type": "code",
      "source": [
        "df.tail(10)"
      ],
      "metadata": {
        "colab": {
          "base_uri": "https://localhost:8080/",
          "height": 363
        },
        "id": "mLWBNifP7eW2",
        "outputId": "84019f75-effe-4463-9060-03f4ce31b330"
      },
      "execution_count": 6,
      "outputs": [
        {
          "output_type": "execute_result",
          "data": {
            "text/html": [
              "<div>\n",
              "<style scoped>\n",
              "    .dataframe tbody tr th:only-of-type {\n",
              "        vertical-align: middle;\n",
              "    }\n",
              "\n",
              "    .dataframe tbody tr th {\n",
              "        vertical-align: top;\n",
              "    }\n",
              "\n",
              "    .dataframe thead th {\n",
              "        text-align: right;\n",
              "    }\n",
              "</style>\n",
              "<table border=\"1\" class=\"dataframe\">\n",
              "  <thead>\n",
              "    <tr style=\"text-align: right;\">\n",
              "      <th></th>\n",
              "      <th>date</th>\n",
              "      <th>open</th>\n",
              "      <th>high</th>\n",
              "      <th>low</th>\n",
              "      <th>close</th>\n",
              "      <th>market</th>\n",
              "      <th>close_ratio</th>\n",
              "      <th>spread</th>\n",
              "    </tr>\n",
              "  </thead>\n",
              "  <tbody>\n",
              "    <tr>\n",
              "      <th>2029</th>\n",
              "      <td>2018-11-20</td>\n",
              "      <td>4863.93</td>\n",
              "      <td>4951.61</td>\n",
              "      <td>4272.11</td>\n",
              "      <td>4451.87</td>\n",
              "      <td>7.740104e+10</td>\n",
              "      <td>0.2645</td>\n",
              "      <td>679.50</td>\n",
              "    </tr>\n",
              "    <tr>\n",
              "      <th>2030</th>\n",
              "      <td>2018-11-21</td>\n",
              "      <td>4465.54</td>\n",
              "      <td>4675.73</td>\n",
              "      <td>4343.98</td>\n",
              "      <td>4602.17</td>\n",
              "      <td>8.002017e+10</td>\n",
              "      <td>0.7783</td>\n",
              "      <td>331.75</td>\n",
              "    </tr>\n",
              "    <tr>\n",
              "      <th>2031</th>\n",
              "      <td>2018-11-22</td>\n",
              "      <td>4611.57</td>\n",
              "      <td>4629.64</td>\n",
              "      <td>4365.64</td>\n",
              "      <td>4365.94</td>\n",
              "      <td>7.591944e+10</td>\n",
              "      <td>0.0011</td>\n",
              "      <td>264.00</td>\n",
              "    </tr>\n",
              "    <tr>\n",
              "      <th>2032</th>\n",
              "      <td>2018-11-23</td>\n",
              "      <td>4360.70</td>\n",
              "      <td>4396.42</td>\n",
              "      <td>4195.68</td>\n",
              "      <td>4347.11</td>\n",
              "      <td>7.559885e+10</td>\n",
              "      <td>0.7544</td>\n",
              "      <td>200.74</td>\n",
              "    </tr>\n",
              "    <tr>\n",
              "      <th>2033</th>\n",
              "      <td>2018-11-24</td>\n",
              "      <td>4347.69</td>\n",
              "      <td>4413.09</td>\n",
              "      <td>3795.16</td>\n",
              "      <td>3880.76</td>\n",
              "      <td>6.749563e+10</td>\n",
              "      <td>0.1385</td>\n",
              "      <td>617.93</td>\n",
              "    </tr>\n",
              "    <tr>\n",
              "      <th>2034</th>\n",
              "      <td>2018-11-25</td>\n",
              "      <td>3880.78</td>\n",
              "      <td>4120.87</td>\n",
              "      <td>3585.06</td>\n",
              "      <td>4009.97</td>\n",
              "      <td>6.974927e+10</td>\n",
              "      <td>0.7930</td>\n",
              "      <td>535.81</td>\n",
              "    </tr>\n",
              "    <tr>\n",
              "      <th>2035</th>\n",
              "      <td>2018-11-26</td>\n",
              "      <td>4015.07</td>\n",
              "      <td>4107.14</td>\n",
              "      <td>3643.92</td>\n",
              "      <td>3779.13</td>\n",
              "      <td>6.573929e+10</td>\n",
              "      <td>0.2919</td>\n",
              "      <td>463.22</td>\n",
              "    </tr>\n",
              "    <tr>\n",
              "      <th>2036</th>\n",
              "      <td>2018-11-27</td>\n",
              "      <td>3765.95</td>\n",
              "      <td>3862.96</td>\n",
              "      <td>3661.01</td>\n",
              "      <td>3820.72</td>\n",
              "      <td>6.646897e+10</td>\n",
              "      <td>0.7908</td>\n",
              "      <td>201.95</td>\n",
              "    </tr>\n",
              "    <tr>\n",
              "      <th>2037</th>\n",
              "      <td>2018-11-28</td>\n",
              "      <td>3822.47</td>\n",
              "      <td>4385.90</td>\n",
              "      <td>3822.47</td>\n",
              "      <td>4257.42</td>\n",
              "      <td>7.407256e+10</td>\n",
              "      <td>0.7720</td>\n",
              "      <td>563.43</td>\n",
              "    </tr>\n",
              "    <tr>\n",
              "      <th>2038</th>\n",
              "      <td>2018-11-29</td>\n",
              "      <td>4269.00</td>\n",
              "      <td>4413.02</td>\n",
              "      <td>4145.77</td>\n",
              "      <td>4278.85</td>\n",
              "      <td>7.445102e+10</td>\n",
              "      <td>0.4980</td>\n",
              "      <td>267.25</td>\n",
              "    </tr>\n",
              "  </tbody>\n",
              "</table>\n",
              "</div>"
            ],
            "text/plain": [
              "           date     open     high  ...        market  close_ratio  spread\n",
              "2029 2018-11-20  4863.93  4951.61  ...  7.740104e+10       0.2645  679.50\n",
              "2030 2018-11-21  4465.54  4675.73  ...  8.002017e+10       0.7783  331.75\n",
              "2031 2018-11-22  4611.57  4629.64  ...  7.591944e+10       0.0011  264.00\n",
              "2032 2018-11-23  4360.70  4396.42  ...  7.559885e+10       0.7544  200.74\n",
              "2033 2018-11-24  4347.69  4413.09  ...  6.749563e+10       0.1385  617.93\n",
              "2034 2018-11-25  3880.78  4120.87  ...  6.974927e+10       0.7930  535.81\n",
              "2035 2018-11-26  4015.07  4107.14  ...  6.573929e+10       0.2919  463.22\n",
              "2036 2018-11-27  3765.95  3862.96  ...  6.646897e+10       0.7908  201.95\n",
              "2037 2018-11-28  3822.47  4385.90  ...  7.407256e+10       0.7720  563.43\n",
              "2038 2018-11-29  4269.00  4413.02  ...  7.445102e+10       0.4980  267.25\n",
              "\n",
              "[10 rows x 8 columns]"
            ]
          },
          "metadata": {},
          "execution_count": 6
        }
      ]
    },
    {
      "cell_type": "code",
      "source": [
        "df.describe"
      ],
      "metadata": {
        "colab": {
          "base_uri": "https://localhost:8080/"
        },
        "id": "GjFXTIoE7gqi",
        "outputId": "c9505c75-0245-4cf7-aa30-083e7a0d926e"
      },
      "execution_count": 7,
      "outputs": [
        {
          "output_type": "execute_result",
          "data": {
            "text/plain": [
              "<bound method NDFrame.describe of            date     open     high  ...        market  close_ratio  spread\n",
              "0    2013-01-05   139.00   139.89  ...  1.298955e+09       0.2882   32.17\n",
              "1    2013-02-05   116.38   125.60  ...  1.168517e+09       0.3881   33.32\n",
              "2    2013-03-05   106.25   108.13  ...  1.085995e+09       0.6424   29.03\n",
              "3    2013-04-05    98.10   115.00  ...  1.250317e+09       0.8889   22.50\n",
              "4    2013-05-05   112.90   118.80  ...  1.288693e+09       0.7521   11.66\n",
              "...         ...      ...      ...  ...           ...          ...     ...\n",
              "2034 2018-11-25  3880.78  4120.87  ...  6.974927e+10       0.7930  535.81\n",
              "2035 2018-11-26  4015.07  4107.14  ...  6.573929e+10       0.2919  463.22\n",
              "2036 2018-11-27  3765.95  3862.96  ...  6.646897e+10       0.7908  201.95\n",
              "2037 2018-11-28  3822.47  4385.90  ...  7.407256e+10       0.7720  563.43\n",
              "2038 2018-11-29  4269.00  4413.02  ...  7.445102e+10       0.4980  267.25\n",
              "\n",
              "[2039 rows x 8 columns]>"
            ]
          },
          "metadata": {},
          "execution_count": 7
        }
      ]
    },
    {
      "cell_type": "code",
      "source": [
        "df.info()"
      ],
      "metadata": {
        "colab": {
          "base_uri": "https://localhost:8080/"
        },
        "id": "l2eU-Rfn77K3",
        "outputId": "e97caf19-a546-40d2-bc62-1ba001c50428"
      },
      "execution_count": 8,
      "outputs": [
        {
          "output_type": "stream",
          "name": "stdout",
          "text": [
            "<class 'pandas.core.frame.DataFrame'>\n",
            "RangeIndex: 2039 entries, 0 to 2038\n",
            "Data columns (total 8 columns):\n",
            " #   Column       Non-Null Count  Dtype         \n",
            "---  ------       --------------  -----         \n",
            " 0   date         2039 non-null   datetime64[ns]\n",
            " 1   open         2039 non-null   float64       \n",
            " 2   high         2039 non-null   float64       \n",
            " 3   low          2039 non-null   float64       \n",
            " 4   close        2039 non-null   float64       \n",
            " 5   market       2039 non-null   float64       \n",
            " 6   close_ratio  2039 non-null   float64       \n",
            " 7   spread       2039 non-null   float64       \n",
            "dtypes: datetime64[ns](1), float64(7)\n",
            "memory usage: 127.6 KB\n"
          ]
        }
      ]
    },
    {
      "cell_type": "code",
      "source": [
        "df.isnull().sum()"
      ],
      "metadata": {
        "colab": {
          "base_uri": "https://localhost:8080/"
        },
        "id": "ntI06bk97_px",
        "outputId": "ab57f3b4-707c-48d4-921b-59404757d146"
      },
      "execution_count": 9,
      "outputs": [
        {
          "output_type": "execute_result",
          "data": {
            "text/plain": [
              "date           0\n",
              "open           0\n",
              "high           0\n",
              "low            0\n",
              "close          0\n",
              "market         0\n",
              "close_ratio    0\n",
              "spread         0\n",
              "dtype: int64"
            ]
          },
          "metadata": {},
          "execution_count": 9
        }
      ]
    },
    {
      "cell_type": "markdown",
      "source": [
        "# ***Third Part: Data Visualization***\n",
        "*Here the data visualization begins with a graph on the variation that bitcoin had (his opening, closing, lowest and highest price, which has had the same on each day of this period)*"
      ],
      "metadata": {
        "id": "065WeF4s7Nj-"
      }
    },
    {
      "cell_type": "code",
      "source": [
        "f, (ax1, ax2, ax3, ax4) = plt.subplots(4, 1, figsize=(10, 12), sharex=True)\n",
        "f.suptitle('Bitcoin Variation')\n",
        "x = df[\"date\"]\n",
        "\n",
        "sns.lineplot(x = x, y = df[\"open\"], palette= \"tab10\", color = \"b\", ax = ax1)\n",
        "ax1.axhline(0, color = \"k\", clip_on = False)\n",
        "ax1.set_ylabel(\"Open\")\n",
        "\n",
        "sns.lineplot(x= x, y= df[\"close\"], palette = \"tab10\", color = \"c\", ax =ax2)\n",
        "ax2.axhline(0, color = \"k\", clip_on = True)\n",
        "ax2.set_ylabel(\"Close\")\n",
        "\n",
        "sns.lineplot(x = x, y= df[\"high\"], palette = \"tab10\", color = \"g\", ax = ax3)\n",
        "ax3.axhline(0, color = \"k\", clip_on = False)\n",
        "ax3.set_ylabel(\"Highest Prices\")\n",
        "\n",
        "sns.lineplot(x=x, y= df[\"low\"], palette= \"tab10\", color = \"r\", ax = ax4)\n",
        "ax4.axhline(0, color = \"k\", clip_on = False)\n",
        "ax4.set_ylabel(\"Lowest Prices\")\n",
        "ax4.set_xlabel(\"Time\")"
      ],
      "metadata": {
        "colab": {
          "base_uri": "https://localhost:8080/",
          "height": 818
        },
        "id": "ZloZooRUe_Qo",
        "outputId": "1b58529e-b8a9-4fcb-c42a-0e96aa287ddb"
      },
      "execution_count": 10,
      "outputs": [
        {
          "output_type": "execute_result",
          "data": {
            "text/plain": [
              "Text(0.5, 0, 'Time')"
            ]
          },
          "metadata": {},
          "execution_count": 10
        },
        {
          "output_type": "display_data",
          "data": {
            "image/png": "[encoded data removed]",
            "text/plain": [
              "<Figure size 720x864 with 4 Axes>"
            ]
          },
          "metadata": {
            "needs_background": "light"
          }
        }
      ]
    },
    {
      "cell_type": "markdown",
      "source": [
        "*In this part, i do a correlation graph with the different columns that the dataset has (This graphic is based on one already made previously)*"
      ],
      "metadata": {
        "id": "NNtOGIGgnUX7"
      }
    },
    {
      "cell_type": "code",
      "source": [
        "def plotCorrelationMatrix(df, graphWidth):\n",
        "    filename = df.dataframeName\n",
        "    df = df.dropna('columns') # drop columns with NaN\n",
        "    df = df[[col for col in df if df[col].nunique() > 1]] # keep columns where there are more than 1 unique values\n",
        "    if df.shape[1] < 2:\n",
        "        print(f'No correlation plots shown: The number of non-NaN or constant columns ({df.shape[1]}) is less than 2')\n",
        "        return\n",
        "    corr = df.corr()\n",
        "    plt.figure(num=None, figsize=(graphWidth, graphWidth), dpi=80, facecolor='w', edgecolor='k')\n",
        "    corrMat = plt.matshow(corr, fignum = 1)\n",
        "    plt.xticks(range(len(corr.columns)), corr.columns, rotation=90)\n",
        "    plt.yticks(range(len(corr.columns)), corr.columns)\n",
        "    plt.gca().xaxis.tick_bottom()\n",
        "    plt.colorbar(corrMat)\n",
        "    plt.title(f'Correlation Matrix for {filename}', fontsize=15)\n",
        "    plt.show()\n",
        "\n",
        "nRowsRead = 1000 # specify 'None' if want to read whole file\n",
        "# bitcoin.csv has 2039 rows in reality, but we are only loading/previewing the first 1000 rows\n",
        "df1 = pd.read_csv('sample_data/bitcoin.csv', delimiter=',', nrows = nRowsRead)\n",
        "df1.dataframeName = 'bitcoin.csv'\n",
        "nRow, nCol = df1.shape\n",
        "\n",
        "plotCorrelationMatrix(df1, 8)\n",
        "\n"
      ],
      "metadata": {
        "colab": {
          "base_uri": "https://localhost:8080/",
          "height": 551
        },
        "id": "GHYZYHGVZPNk",
        "outputId": "005f879f-762d-4aae-8dd5-9c45a9163cdf"
      },
      "execution_count": 16,
      "outputs": [
        {
          "output_type": "display_data",
          "data": {
            "image/png": "[encoded data removed]",
            "text/plain": [
              "<Figure size 640x640 with 2 Axes>"
            ]
          },
          "metadata": {}
        }
      ]
    }
  ]
}